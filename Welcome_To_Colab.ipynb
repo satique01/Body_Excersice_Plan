{
  "cells": [
    {
      "cell_type": "markdown",
      "metadata": {
        "id": "view-in-github",
        "colab_type": "text"
      },
      "source": [
        "<a href=\"https://colab.research.google.com/github/satique01/Body_Excersice_Plan/blob/main/Welcome_To_Colab.ipynb\" target=\"_parent\"><img src=\"https://colab.research.google.com/assets/colab-badge.svg\" alt=\"Open In Colab\"/></a>"
      ]
    },
    {
      "cell_type": "code",
      "source": [
        "import streamlit as st\n",
        "from PIL import Image\n",
        "\n",
        "# Placeholder function to classify body type (you can replace this with a real model)\n",
        "def classify_body_type(image):\n",
        "    # Dummy classification logic based on image dimensions (as a placeholder)\n",
        "    width, height = image.size\n",
        "    aspect_ratio = width / height\n",
        "\n",
        "    if aspect_ratio > 0.8:\n",
        "        return \"Mesomorph\"\n",
        "    elif aspect_ratio < 0.7:\n",
        "        return \"Ectomorph\"\n",
        "    else:\n",
        "        return \"Endomorph\"\n",
        "\n",
        "# Function to provide exercise plan based on body type\n",
        "def get_exercise_plan(body_type):\n",
        "    plans = {\n",
        "        \"Mesomorph\": \"\"\"\n",
        "        **Exercise Plan for Mesomorph:**\n",
        "        - Strength Training: 4-5 times per week.\n",
        "        - Cardio: 3 times per week (moderate intensity).\n",
        "        - Focus: Balanced mix of strength and endurance exercises.\n",
        "        \"\"\",\n",
        "        \"Ectomorph\": \"\"\"\n",
        "        **Exercise Plan for Ectomorph:**\n",
        "        - Strength Training: 3-4 times per week (high weight, low reps).\n",
        "        - Cardio: Limited to 1-2 times per week (low intensity).\n",
        "        - Focus: Muscle gain with calorie surplus diet.\n",
        "        \"\"\",\n",
        "        \"Endomorph\": \"\"\"\n",
        "        **Exercise Plan for Endomorph:**\n",
        "        - Strength Training: 4-5 times per week (moderate weight, high reps).\n",
        "        - Cardio: 5 times per week (high intensity, HIIT).\n",
        "        - Focus: Fat loss with a focus on full-body workouts.\n",
        "        \"\"\"\n",
        "    }\n",
        "    return plans.get(body_type, \"No specific exercise plan available.\")\n",
        "\n",
        "# Streamlit app layout\n",
        "st.title(\"Get Your Personalized Exercise Plan\")\n",
        "st.write(\"Upload an image of your body to receive an exercise plan based on your body type.\")\n",
        "\n",
        "# Image upload\n",
        "uploaded_file = st.file_uploader(\"Upload an image\", type=[\"jpg\", \"jpeg\", \"png\"])\n",
        "\n",
        "if uploaded_file is not None:\n",
        "    # Display uploaded image\n",
        "    image = Image.open(uploaded_file)\n",
        "    st.image(image, caption=\"Uploaded Image\", use_column_width=True)\n",
        "\n",
        "    # Classify body type (using the placeholder function)\n",
        "    body_type = classify_body_type(image)\n",
        "\n",
        "    # Display body type\n",
        "    st.write(f\"**Detected Body Type:** {body_type}\")\n",
        "\n",
        "    # Provide exercise plan based on body type\n",
        "    exercise_plan = get_exercise_plan(body_type)\n",
        "    st.write(exercise_plan)\n",
        "else:\n",
        "    st.write(\"Please upload an image to receive your exercise plan.\")\n"
      ],
      "metadata": {
        "id": "vwt6i2uni_n-",
        "outputId": "6a47bf15-6746-41ff-d686-19a53c205b86",
        "colab": {
          "base_uri": "https://localhost:8080/",
          "height": 383
        }
      },
      "execution_count": 2,
      "outputs": [
        {
          "output_type": "error",
          "ename": "ModuleNotFoundError",
          "evalue": "No module named 'streamlit'",
          "traceback": [
            "\u001b[0;31m---------------------------------------------------------------------------\u001b[0m",
            "\u001b[0;31mModuleNotFoundError\u001b[0m                       Traceback (most recent call last)",
            "\u001b[0;32m<ipython-input-2-c3c524edc5e4>\u001b[0m in \u001b[0;36m<cell line: 1>\u001b[0;34m()\u001b[0m\n\u001b[0;32m----> 1\u001b[0;31m \u001b[0;32mimport\u001b[0m \u001b[0mstreamlit\u001b[0m \u001b[0;32mas\u001b[0m \u001b[0mst\u001b[0m\u001b[0;34m\u001b[0m\u001b[0;34m\u001b[0m\u001b[0m\n\u001b[0m\u001b[1;32m      2\u001b[0m \u001b[0;32mfrom\u001b[0m \u001b[0mPIL\u001b[0m \u001b[0;32mimport\u001b[0m \u001b[0mImage\u001b[0m\u001b[0;34m\u001b[0m\u001b[0;34m\u001b[0m\u001b[0m\n\u001b[1;32m      3\u001b[0m \u001b[0;34m\u001b[0m\u001b[0m\n\u001b[1;32m      4\u001b[0m \u001b[0;31m# Placeholder function to classify body type (you can replace this with a real model)\u001b[0m\u001b[0;34m\u001b[0m\u001b[0;34m\u001b[0m\u001b[0m\n\u001b[1;32m      5\u001b[0m \u001b[0;32mdef\u001b[0m \u001b[0mclassify_body_type\u001b[0m\u001b[0;34m(\u001b[0m\u001b[0mimage\u001b[0m\u001b[0;34m)\u001b[0m\u001b[0;34m:\u001b[0m\u001b[0;34m\u001b[0m\u001b[0;34m\u001b[0m\u001b[0m\n",
            "\u001b[0;31mModuleNotFoundError\u001b[0m: No module named 'streamlit'",
            "",
            "\u001b[0;31m---------------------------------------------------------------------------\u001b[0;32m\nNOTE: If your import is failing due to a missing package, you can\nmanually install dependencies using either !pip or !apt.\n\nTo view examples of installing some common dependencies, click the\n\"Open Examples\" button below.\n\u001b[0;31m---------------------------------------------------------------------------\u001b[0m\n"
          ],
          "errorDetails": {
            "actions": [
              {
                "action": "open_url",
                "actionText": "Open Examples",
                "url": "/notebooks/snippets/importing_libraries.ipynb"
              }
            ]
          }
        }
      ]
    }
  ],
  "metadata": {
    "colab": {
      "name": "Welcome To Colab",
      "toc_visible": true,
      "provenance": [],
      "include_colab_link": true
    },
    "kernelspec": {
      "display_name": "Python 3",
      "name": "python3"
    }
  },
  "nbformat": 4,
  "nbformat_minor": 0
}